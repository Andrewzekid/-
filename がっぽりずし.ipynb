{
  "cells": [
    {
      "cell_type": "code",
      "execution_count": null,
      "id": "2861c6e2",
      "metadata": {
        "id": "2861c6e2"
      },
      "outputs": [],
      "source": [
        "\n",
        "import random\n",
        "import time\n",
        "import math\n",
        "from collections import Counter\n",
        "import re"
      ]
    },
    {
      "cell_type": "code",
      "source": [
        "import copy\n",
        "global N_ITERATIONS\n",
        "N_ITERATIONS = 1000000"
      ],
      "metadata": {
        "id": "g1zr0rPZZUo3"
      },
      "id": "g1zr0rPZZUo3",
      "execution_count": null,
      "outputs": []
    },
    {
      "cell_type": "code",
      "execution_count": null,
      "id": "5b72a8f8",
      "metadata": {
        "id": "5b72a8f8"
      },
      "outputs": [],
      "source": [
        "class SushiShop:\n",
        "  TICKERS = {\"OTR\":1,\"OYJ\":1,\"TTR\":1,\"AJI\":1,\"TAI\":1,\"KAN\":1,\"UNI\":1,\"FUG\":1,\"HMT\":2,\"FOA\":2,\"ANG\":2,\"UNG\":2,\"AKA\":2,\"HOT\":2,\n",
        "           \"IKU\":2,\"STK\":2,\"TBU\":2,\"MGR\":3,\"SAL\":3,\"IWS\":3,\"AJI\":3,\"SMS\":3,\"SNM\":3,\"KTO\":3,\"ENG\":3,\"KNP\":3,\"KHD\":3,\"HKG\":3,\n",
        "           \"EBI\":4,\"IKA\":4,\"TKO\":4,\"TMG\":4,\"NGT\":4,\"KZN\":4,\"CAL\":4,\"KPA\":5,\"NTM\":5,\"TKM\":5,\"COR\":5,\"INZ\":5}\n",
        "\n",
        "  def __init__(self,arrangement):\n",
        "    self.arrangement = arrangement\n",
        "    self.count = len(self.arrangement)\n",
        "    # print(self.count)\n",
        "    # print(self.arrangement)\n",
        "\n",
        "  def __str__(self):\n",
        "    return \" \".join([sushi.ticker for sushi in self.arrangement])\n",
        "\n",
        "  def __len__(self):\n",
        "    return len(self.arrangement)\n",
        "\n",
        "  @classmethod\n",
        "  def from_tickers(cls,tickers):\n",
        "    \"\"\"Given a string of tickers, construct the current roulette arrangement\"\"\"\n",
        "    tickers = re.findall('.{3}', tickers)\n",
        "\n",
        "    #Create a list of Sushi objects\n",
        "    arrangement = []\n",
        "    for ticker in tickers: arrangement.extend([ticker]*SushiShop.TICKERS[ticker])\n",
        "    arrangement = [Sushi(arrangement[i],i) for i in range(len(arrangement))]\n",
        "    return SushiShop(arrangement=arrangement)\n",
        "\n",
        "class Sushi:\n",
        "  def __init__(self,ticker,index):\n",
        "    self.ticker = ticker\n",
        "    self.index = index\n",
        "\n",
        "  def __str__(self):\n",
        "    return f\"{self.ticker}{self.index}\"\n",
        "\n",
        "\n",
        "def get_random_sample(default_weights,count,shop,dishes=5):\n",
        "  weights = default_weights\n",
        "  hits = []\n",
        "  for i in range(dishes):\n",
        "    hit = random.choices(shop.arrangement,weights=weights,k=1)[0]\n",
        "    hits.append(hit.ticker)\n",
        "    # print(hit)\n",
        "    next = (hit.index+1)\n",
        "\n",
        "    while weights[next%count] == 0:\n",
        "      next += 1\n",
        "\n",
        "    weights[next % count] += weights[hit.index]\n",
        "    weights[hit.index] = 0\n",
        "    # print(weights)\n",
        "    # print(\"============\")\n",
        "  hits.sort()\n",
        "  return \" \".join(hits)\n",
        "def simulated_games(shop,iterations=N_ITERATIONS):\n",
        "  count = shop.count\n",
        "  default_weights = [1]*shop.count\n",
        "  occurances = []\n",
        "  for i in range(iterations):\n",
        "    hit = get_random_sample(default_weights.copy(),count,shop)\n",
        "    occurances.append(hit)\n",
        "  cnt = Counter(occurances)\n",
        "  return cnt.items()"
      ]
    },
    {
      "cell_type": "code",
      "source": [
        "#global variables\n",
        "global PROBABILITIES\n",
        "global PAYOUT\n",
        "global COST\n"
      ],
      "metadata": {
        "id": "LqmTb7x3QZAG"
      },
      "id": "LqmTb7x3QZAG",
      "execution_count": null,
      "outputs": []
    },
    {
      "cell_type": "code",
      "source": [
        "def sublist(ls1, ls2):\n",
        "    '''\n",
        "    >>> sublist([], [1,2,3])\n",
        "    True\n",
        "    >>> sublist([1,2,3,4], [2,5,3])\n",
        "    True\n",
        "    >>> sublist([1,2,3,4], [0,3,2])\n",
        "    False\n",
        "    >>> sublist([1,2,3,4], [1,2,5,6,7,8,5,76,4,3])\n",
        "    False\n",
        "    '''\n",
        "    ls = [element for element in ls1 if element in ls2 and ls1.count(element) <= ls2.count(element)]\n",
        "    return True if len(ls) == len(ls1) else False\n",
        "\n",
        "def get_prob(combo,probabilities):\n",
        "  # print(probabilities)\n",
        "  # print(combo)\n",
        "  matches = [(\" \".join(tup[0]),tup[1]) for tup in probabilities if sublist(combo,tup[0])]\n",
        "  return matches\n",
        "\n",
        "def get_total_probs(combination,probabilities):\n",
        "\n",
        "  combo_list = combination.split(\" \")\n",
        "  combo_list.sort()\n",
        "  unique_dishes = set(combo_list)\n",
        "  common_prob = get_prob(combo_list,probabilities)\n",
        "  # print(common_prob)\n",
        "  common_prob = common_prob[0][1]\n",
        "\n",
        "  tups = []\n",
        "  for dish in unique_dishes:\n",
        "    new_combo = combo_list.copy()\n",
        "    new_combo.remove(dish)\n",
        "    new_combo.sort()\n",
        "    p = get_prob(new_combo,probabilities)\n",
        "    # print(f\"Combo {new_combo} has probability {p}!\")\n",
        "    for prob in p:\n",
        "      # print(prob)\n",
        "      if prob not in tups: tups.append(prob)\n",
        "  # print(tups)\n",
        "  return (common_prob,sum([prob[1] for prob in tups]))\n",
        "\n",
        "\n",
        "def EV(combination,current_probabilities,free_choice,payout,input):\n",
        "  prob_without_free_choice = current_probabilities[0]\n",
        "  prob_with_free_choice = current_probabilities[1]\n",
        "  # print(f\"Payout: {payout_rate}, input: {input} free_choice probability: {free_choice}, no free_choice: {prob_without_free_choice} free choice: {prob_with_free_choice}\")\n",
        "  EV = (prob_without_free_choice * (1-free_choice)*(payout)) + (prob_with_free_choice * free_choice * payout)\n",
        "  # print(EV)\n",
        "  return EV - input\n",
        "\n",
        "\n",
        "def calculate_payout(payout_rate,input,free_choice,prob_no_free,prob_free):\n",
        "  \"\"\"Calculate payout at current payout rate\"\"\"\n",
        "\n",
        "  return ((payout_rate+1)*input)/(prob_no_free - (prob_no_free*free_choice) + (free_choice*prob_free))\n",
        "\n",
        "def continuous_EV(tickers,COST):\n",
        "\n",
        "  global PROBABILITIES\n",
        "\n",
        "  #data cleaning, capitalize, strip, and delete extra strings\n",
        "  tickers = tickers.upper().strip().replace(\" \",\"\")\n",
        "  shop = SushiShop.from_tickers(tickers)\n",
        "\n",
        "\n",
        "  results = sorted(simulated_games(shop),key=lambda tup: tup[1],reverse=True)\n",
        "  PROBABILITIES = [(ticker.split(\" \"),(probability/N_ITERATIONS)) for ticker,probability in results]\n",
        "\n",
        "\n",
        "def get_EV_current():\n",
        "  global PROBABILITIES\n",
        "  global COST\n",
        "  while True:\n",
        "    combo = input(\"Input the combination here: \")\n",
        "    payout = int(input(\"Input the payout here: \"))\n",
        "    print(f\"The expected value of {combo} is between: {EV(combo,get_total_probs(combo,PROBABILITIES),0.8,payout,COST)} and {EV(combo,get_total_probs(combo,PROBABILITIES),0.95,payout,COST)}\")"
      ],
      "metadata": {
        "id": "F_iDPFK3FmCA"
      },
      "id": "F_iDPFK3FmCA",
      "execution_count": null,
      "outputs": []
    },
    {
      "cell_type": "code",
      "source": [
        "import numpy as np"
      ],
      "metadata": {
        "id": "_NVq4erT2xLq"
      },
      "id": "_NVq4erT2xLq",
      "execution_count": null,
      "outputs": []
    },
    {
      "cell_type": "code",
      "source": [
        "def find_prob_with_free_choice(combo_str):\n",
        "  #combo is a list [1,2,3,]\n",
        "  # print(\"input recieved is\",combo_str)\n",
        "  combo = combo_str\n",
        "\n",
        "  op1 = combo[1:]\n",
        "\n",
        "  op2 = combo[2:]\n",
        "  op2.extend(combo[0])\n",
        "  op3 = combo[3:]\n",
        "  op3.extend(combo[0:2])\n",
        "  op4 = combo[:4]\n",
        "\n",
        "  #sort\n",
        "  np.sort(op2)\n",
        "  np.sort(op3)\n",
        "  np.sort(op4)\n",
        "\n",
        "\n",
        "  total_prob = 0\n",
        "\n",
        "  for combo,prob in PROBABILITIES:\n",
        "    if combo == op1 or combo == op2 or combo == op3 or combo == op4:\n",
        "      total_prob += prob\n",
        "\n",
        "  return total_prob\n"
      ],
      "metadata": {
        "id": "Gm-z5jfdXdOS"
      },
      "id": "Gm-z5jfdXdOS",
      "execution_count": null,
      "outputs": []
    },
    {
      "cell_type": "code",
      "source": [
        "def calc_optimal_bets():\n",
        "  ls = []\n",
        "  free_choice = 0.8\n",
        "  payout_rate = 2.65\n",
        "  COST = 10\n",
        "  for combo,prob in PROBABILITIES:\n",
        "\n",
        "    combo_str = \" \".join(combo)\n",
        "    #total prob with free choice\n",
        "    t = get_total_probs(combo_str,PROBABILITIES)\n",
        "    ls.append((combo,EV(combo,t,free_choice,calculate_payout(payout_rate,COST,t[1],1-free_choice,free_choice),COST)))\n",
        "  ls.sort(reverse=True,key=lambda x: x[1])\n",
        "  print(ls)"
      ],
      "metadata": {
        "id": "xIlpWNGBcDB7"
      },
      "id": "xIlpWNGBcDB7",
      "execution_count": null,
      "outputs": []
    },
    {
      "cell_type": "code",
      "source": [
        "def continuous_EV(tickers,COST=20):\n",
        "\n",
        "  global PROBABILITIES\n",
        "\n",
        "  #data cleaning, capitalize, strip, and delete extra strings\n",
        "  tickers = tickers.upper().strip().replace(\" \",\"\")\n",
        "  shop = SushiShop.from_tickers(tickers)\n",
        "\n",
        "\n",
        "  results = sorted(simulated_games(shop),key=lambda tup: tup[1],reverse=True)\n",
        "  PROBABILITIES = [(ticker.split(\" \"),(probability/N_ITERATIONS)) for ticker,probability in results]\n",
        "  # calc_optimal_bets()"
      ],
      "metadata": {
        "id": "UTMo30rCrLAs"
      },
      "id": "UTMo30rCrLAs",
      "execution_count": null,
      "outputs": []
    },
    {
      "cell_type": "code",
      "source": [],
      "metadata": {
        "id": "y3m2yw_a7eXf"
      },
      "id": "y3m2yw_a7eXf",
      "execution_count": null,
      "outputs": []
    },
    {
      "cell_type": "code",
      "source": [
        "len(PROBABILITIES)"
      ],
      "metadata": {
        "id": "ULr4HT9b81At",
        "colab": {
          "base_uri": "https://localhost:8080/"
        },
        "outputId": "db227fda-64a9-48d4-8707-9d278af25385"
      },
      "id": "ULr4HT9b81At",
      "execution_count": null,
      "outputs": [
        {
          "output_type": "execute_result",
          "data": {
            "text/plain": [
              "192"
            ]
          },
          "metadata": {},
          "execution_count": 76
        }
      ]
    },
    {
      "cell_type": "code",
      "source": [
        "#calibrate payouts\n",
        "continuous_EV(\"OYJ HMT IKU HOT NGT KZN\",10)\n",
        "calc_optimal_bets()\n"
      ],
      "metadata": {
        "colab": {
          "base_uri": "https://localhost:8080/"
        },
        "id": "2qnahiMIrMU-",
        "outputId": "81379fef-1c62-4a78-eec1-8951217c2d0d"
      },
      "id": "2qnahiMIrMU-",
      "execution_count": null,
      "outputs": [
        {
          "output_type": "stream",
          "name": "stdout",
          "text": [
            "[(['HMT', 'HOT', 'IKU', 'KZN', 'NGT'], 15.790233151344854), (['HOT', 'IKU', 'KZN', 'NGT', 'NGT'], 14.181127119665728), (['HMT', 'HOT', 'KZN', 'NGT', 'NGT'], 13.809859231804879), (['HOT', 'IKU', 'KZN', 'KZN', 'NGT'], 13.805005133189756), (['HMT', 'IKU', 'KZN', 'KZN', 'NGT'], 13.721430035352462), (['HMT', 'IKU', 'KZN', 'NGT', 'NGT'], 13.60621668407888), (['HMT', 'HOT', 'KZN', 'KZN', 'NGT'], 13.57276204660796), (['HOT', 'KZN', 'KZN', 'NGT', 'NGT'], 12.409763589848932), (['HMT', 'KZN', 'KZN', 'NGT', 'NGT'], 12.037951350194671), (['IKU', 'KZN', 'KZN', 'NGT', 'NGT'], 11.929425953506446), (['HMT', 'IKU', 'KZN', 'NGT', 'OYJ'], 11.728248819670814), (['HMT', 'HOT', 'KZN', 'NGT', 'OYJ'], 11.411360377883689), (['HOT', 'IKU', 'KZN', 'NGT', 'OYJ'], 11.228038258592488), (['HMT', 'KZN', 'KZN', 'NGT', 'OYJ'], 10.488654045643152), (['HOT', 'KZN', 'KZN', 'NGT', 'OYJ'], 10.021002423116318), (['HOT', 'KZN', 'NGT', 'NGT', 'OYJ'], 9.897320373187252), (['HMT', 'KZN', 'NGT', 'NGT', 'OYJ'], 9.844207833855542), (['IKU', 'KZN', 'KZN', 'NGT', 'OYJ'], 9.765661699495649), (['HMT', 'HOT', 'IKU', 'NGT', 'NGT'], 9.290930039275274), (['IKU', 'KZN', 'NGT', 'NGT', 'OYJ'], 9.201772309902026), (['HMT', 'HOT', 'IKU', 'KZN', 'KZN'], 8.760814710014369), (['KZN', 'KZN', 'NGT', 'NGT', 'OYJ'], 8.748287521334202), (['HOT', 'HOT', 'IKU', 'KZN', 'NGT'], 7.949158755528131), (['HOT', 'IKU', 'IKU', 'KZN', 'NGT'], 7.6886845083750615), (['HOT', 'KZN', 'NGT', 'NGT', 'NGT'], 7.5579734640139336), (['HMT', 'HMT', 'IKU', 'KZN', 'NGT'], 7.52647954075076), (['HMT', 'IKU', 'IKU', 'KZN', 'NGT'], 7.420342848486893), (['HMT', 'HOT', 'IKU', 'KZN', 'OYJ'], 7.031215355719457), (['HOT', 'KZN', 'KZN', 'KZN', 'NGT'], 6.970852091649512), (['HMT', 'HOT', 'HOT', 'KZN', 'NGT'], 6.969173708593765), (['HMT', 'KZN', 'KZN', 'KZN', 'NGT'], 6.9670962988183724), (['IKU', 'KZN', 'KZN', 'KZN', 'NGT'], 6.792890942960096), (['HMT', 'HOT', 'IKU', 'NGT', 'OYJ'], 6.767459941678204), (['HMT', 'KZN', 'NGT', 'NGT', 'NGT'], 6.766929968083748), (['IKU', 'KZN', 'NGT', 'NGT', 'NGT'], 6.760560072972471), (['HMT', 'HMT', 'HOT', 'KZN', 'NGT'], 6.705978892971373), (['HOT', 'HOT', 'KZN', 'NGT', 'NGT'], 6.522929746267678), (['HMT', 'IKU', 'KZN', 'KZN', 'OYJ'], 5.86174185097965), (['HOT', 'HOT', 'KZN', 'KZN', 'NGT'], 5.747219131233036), (['KZN', 'KZN', 'KZN', 'NGT', 'NGT'], 5.731703966361929), (['KZN', 'KZN', 'NGT', 'NGT', 'NGT'], 5.708354821544116), (['HMT', 'HMT', 'KZN', 'KZN', 'NGT'], 5.515721094289567), (['HMT', 'HOT', 'KZN', 'KZN', 'OYJ'], 5.329310153494516), (['HMT', 'HMT', 'KZN', 'NGT', 'NGT'], 5.3156292557326665), (['IKU', 'IKU', 'KZN', 'KZN', 'NGT'], 5.244346346625701), (['IKU', 'IKU', 'KZN', 'NGT', 'NGT'], 5.231217799177433), (['HOT', 'IKU', 'KZN', 'KZN', 'OYJ'], 4.866163645490861), (['HMT', 'HOT', 'NGT', 'NGT', 'OYJ'], 4.755395844700535), (['HOT', 'IKU', 'NGT', 'NGT', 'OYJ'], 4.675297601296714), (['HMT', 'IKU', 'NGT', 'NGT', 'OYJ'], 4.625136885876191), (['KZN', 'KZN', 'KZN', 'NGT', 'OYJ'], 4.309807367839021), (['HMT', 'HMT', 'KZN', 'NGT', 'OYJ'], 4.230101323587434), (['HMT', 'HOT', 'IKU', 'IKU', 'NGT'], 3.931985102736407), (['HMT', 'HOT', 'HOT', 'IKU', 'NGT'], 3.7507222713432498), (['HMT', 'HOT', 'IKU', 'IKU', 'KZN'], 3.7281109567598207), (['KZN', 'NGT', 'NGT', 'NGT', 'OYJ'], 3.416046302713344), (['HMT', 'HMT', 'HOT', 'IKU', 'NGT'], 3.354008927191787), (['HMT', 'HMT', 'HOT', 'IKU', 'KZN'], 3.2723588341775525), (['HOT', 'HOT', 'KZN', 'NGT', 'OYJ'], 3.143173468782038), (['HMT', 'HOT', 'HOT', 'IKU', 'KZN'], 3.1396189188574937), (['HOT', 'IKU', 'NGT', 'NGT', 'NGT'], 3.113307526755353), (['HOT', 'HOT', 'IKU', 'NGT', 'NGT'], 2.7413677514577657), (['HMT', 'HOT', 'NGT', 'NGT', 'NGT'], 2.7225396198601466), (['IKU', 'IKU', 'KZN', 'NGT', 'OYJ'], 2.4567959476466523), (['HMT', 'IKU', 'KZN', 'KZN', 'KZN'], 2.387441649057175), (['HOT', 'IKU', 'KZN', 'KZN', 'KZN'], 2.2144923338499325), (['HMT', 'IKU', 'NGT', 'NGT', 'NGT'], 2.1711115145224333), (['HOT', 'IKU', 'IKU', 'NGT', 'NGT'], 2.0749519850700775), (['HMT', 'HOT', 'KZN', 'KZN', 'KZN'], 2.0048299496205857), (['HMT', 'HOT', 'HOT', 'NGT', 'NGT'], 1.832225569028905), (['HMT', 'HMT', 'IKU', 'KZN', 'KZN'], 1.7439324269987448), (['HMT', 'IKU', 'IKU', 'KZN', 'KZN'], 1.5500758278092448), (['HOT', 'IKU', 'IKU', 'KZN', 'KZN'], 1.4497619334549707), (['HMT', 'IKU', 'IKU', 'NGT', 'NGT'], 1.4268960728635207), (['HOT', 'HOT', 'IKU', 'KZN', 'KZN'], 1.4192218326222008), (['HMT', 'HMT', 'IKU', 'NGT', 'NGT'], 1.4112207156401482), (['HMT', 'HMT', 'IKU', 'KZN', 'OYJ'], 1.1011260094374489), (['HMT', 'HMT', 'HOT', 'NGT', 'NGT'], 1.0529390604031015), (['HMT', 'HMT', 'HOT', 'KZN', 'KZN'], 0.7329398828010838), (['HMT', 'KZN', 'KZN', 'KZN', 'OYJ'], 0.6308507064100493), (['HMT', 'HOT', 'HOT', 'KZN', 'KZN'], 0.5401949541284417), (['HMT', 'HMT', 'IKU', 'NGT', 'OYJ'], 0.47830893066702274), (['HMT', 'IKU', 'IKU', 'KZN', 'OYJ'], 0.26684510510092707), (['HMT', 'HMT', 'HOT', 'KZN', 'OYJ'], 0.09498219995516521), (['HOT', 'KZN', 'KZN', 'KZN', 'OYJ'], -0.1589058272711803), (['HMT', 'HMT', 'KZN', 'KZN', 'OYJ'], -0.16262652796609167), (['IKU', 'KZN', 'KZN', 'KZN', 'OYJ'], -0.1788438366912306), (['HMT', 'IKU', 'IKU', 'NGT', 'OYJ'], -0.24143877466798713), (['HOT', 'HOT', 'IKU', 'NGT', 'OYJ'], -0.255449148363871), (['HMT', 'HMT', 'HOT', 'NGT', 'OYJ'], -0.3293984330562125), (['HOT', 'NGT', 'NGT', 'NGT', 'OYJ'], -0.4691245105287205), (['HOT', 'IKU', 'IKU', 'KZN', 'OYJ'], -0.5775505833195265), (['HOT', 'HOT', 'IKU', 'KZN', 'OYJ'], -0.5778693128778905), (['HOT', 'IKU', 'IKU', 'NGT', 'OYJ'], -0.6601539851845111), (['HMT', 'HOT', 'HOT', 'NGT', 'OYJ'], -0.7788574868023748), (['HMT', 'HOT', 'HOT', 'KZN', 'OYJ'], -0.8712782421311154), (['HMT', 'NGT', 'NGT', 'NGT', 'OYJ'], -0.8932094173133098), (['IKU', 'NGT', 'NGT', 'NGT', 'OYJ'], -1.3602692964469583), (['HOT', 'HOT', 'NGT', 'NGT', 'OYJ'], -1.380362949234593), (['KZN', 'KZN', 'KZN', 'KZN', 'NGT'], -1.4853764555057385), (['HMT', 'HMT', 'NGT', 'NGT', 'OYJ'], -1.4968792834884486), (['HOT', 'HOT', 'IKU', 'IKU', 'NGT'], -1.5039401178267848), (['KZN', 'NGT', 'NGT', 'NGT', 'NGT'], -1.5347304803678696), (['HMT', 'HMT', 'IKU', 'IKU', 'KZN'], -1.832339885224414), (['IKU', 'IKU', 'KZN', 'KZN', 'OYJ'], -1.899003861809831), (['HOT', 'HOT', 'KZN', 'KZN', 'OYJ'], -1.9337744581067948), (['HOT', 'HOT', 'NGT', 'NGT', 'NGT'], -1.9917951068056148), (['HMT', 'HMT', 'IKU', 'IKU', 'NGT'], -2.002519024625623), (['HOT', 'HOT', 'IKU', 'IKU', 'KZN'], -2.0215060477247278), (['HMT', 'HMT', 'HOT', 'IKU', 'OYJ'], -2.418436104828107), (['HMT', 'HOT', 'IKU', 'IKU', 'OYJ'], -2.5747119948184105), (['IKU', 'IKU', 'NGT', 'NGT', 'OYJ'], -2.6555300019129797), (['HMT', 'HMT', 'KZN', 'KZN', 'KZN'], -3.145697526742566), (['HMT', 'HOT', 'HOT', 'IKU', 'OYJ'], -3.2072165525797693), (['IKU', 'IKU', 'KZN', 'KZN', 'KZN'], -3.4331186986065783), (['HMT', 'HMT', 'HOT', 'HOT', 'NGT'], -3.4472274595703674), (['IKU', 'IKU', 'NGT', 'NGT', 'NGT'], -3.467994967497699), (['HOT', 'HOT', 'KZN', 'KZN', 'KZN'], -3.492096114989576), (['HMT', 'HMT', 'NGT', 'NGT', 'NGT'], -3.493302434618591), (['HMT', 'HMT', 'HOT', 'HOT', 'KZN'], -3.8069449698460707), (['HMT', 'HMT', 'HOT', 'IKU', 'IKU'], -3.906114553322329), (['HMT', 'HOT', 'HOT', 'IKU', 'IKU'], -3.9188639017564997), (['HOT', 'NGT', 'NGT', 'NGT', 'NGT'], -3.974763178477968), (['HMT', 'KZN', 'KZN', 'KZN', 'KZN'], -4.502593360995848), (['HOT', 'KZN', 'KZN', 'KZN', 'KZN'], -4.657830373839273), (['IKU', 'KZN', 'KZN', 'KZN', 'KZN'], -4.664892023734808), (['IKU', 'NGT', 'NGT', 'NGT', 'NGT'], -4.687906374811137), (['HMT', 'NGT', 'NGT', 'NGT', 'NGT'], -4.692777376862878), (['HMT', 'HMT', 'HOT', 'HOT', 'IKU'], -4.8501273626532955), (['HMT', 'HMT', 'IKU', 'IKU', 'OYJ'], -5.458123429980416), (['KZN', 'KZN', 'KZN', 'KZN', 'OYJ'], -5.480682730631864), (['HOT', 'HOT', 'IKU', 'IKU', 'OYJ'], -6.348300765324302), (['NGT', 'NGT', 'NGT', 'NGT', 'OYJ'], -6.357146163209952), (['HMT', 'HMT', 'HOT', 'HOT', 'OYJ'], -6.877723772570139)]\n"
          ]
        }
      ]
    },
    {
      "cell_type": "markdown",
      "source": [],
      "metadata": {
        "id": "pSpHLBTqwtS8"
      },
      "id": "pSpHLBTqwtS8"
    },
    {
      "cell_type": "code",
      "source": [],
      "metadata": {
        "id": "4CuSFwD8wtny"
      },
      "id": "4CuSFwD8wtny",
      "execution_count": null,
      "outputs": []
    },
    {
      "cell_type": "code",
      "source": [
        "calculate_payout(2.65,10,0.8,*get_total_probs(\"TMG TMG TMG NTM NTM\",PROBABILITIES))"
      ],
      "metadata": {
        "id": "aKFnkkVi2XEG",
        "colab": {
          "base_uri": "https://localhost:8080/"
        },
        "outputId": "d8e1422f-24c8-4980-ec82-360f0f58c7c4"
      },
      "id": "aKFnkkVi2XEG",
      "execution_count": null,
      "outputs": [
        {
          "output_type": "execute_result",
          "data": {
            "text/plain": [
              "272.2348767932074"
            ]
          },
          "metadata": {},
          "execution_count": 98
        }
      ]
    },
    {
      "cell_type": "code",
      "source": [
        "calc_optimal_bets()"
      ],
      "metadata": {
        "colab": {
          "base_uri": "https://localhost:8080/"
        },
        "id": "fZZhoziwnioQ",
        "outputId": "d757fcd6-8367-4ceb-c9d5-c72650a92baa"
      },
      "id": "fZZhoziwnioQ",
      "execution_count": null,
      "outputs": [
        {
          "output_type": "stream",
          "name": "stdout",
          "text": [
            "[('ANG COR COR INZ INZ', 0.05518)]\n",
            "37.409221200000005\n",
            "[('AKA COR COR INZ INZ', 0.0496908)]\n",
            "37.006125000000004\n",
            "[('AKA ANG COR INZ INZ', 0.048886)]\n",
            "37.138194600000006\n",
            "[('AKA ANG COR COR INZ', 0.0464872)]\n",
            "36.60048600000001\n",
            "[('COR COR COR INZ INZ', 0.0402692)]\n",
            "25.348198200000013\n",
            "[('COR COR INZ INZ INZ', 0.0401276)]\n",
            "25.367027400000012\n",
            "[('ANG COR INZ INZ INZ', 0.0364)]\n",
            "25.996557600000013\n",
            "[('AKA COR COR INZ TAI', 0.0321716)]\n",
            "27.861576600000006\n",
            "[('ANG COR COR COR INZ', 0.031942)]\n",
            "25.133994600000012\n",
            "[('AKA COR INZ INZ INZ', 0.0305736)]\n",
            "25.009436400000002\n",
            "[('AKA COR COR COR INZ', 0.0305048)]\n",
            "25.29204600000001\n",
            "[('COR COR INZ INZ TAI', 0.0302924)]\n",
            "28.878681000000018\n",
            "[('AKA COR INZ INZ TAI', 0.028008)]\n",
            "26.90023440000001\n",
            "[('AKA ANG COR INZ TAI', 0.026216)]\n",
            "26.773593600000012\n",
            "[('ANG COR COR INZ TAI', 0.0252436)]\n",
            "27.17405340000001\n",
            "[('ANG COR INZ INZ TAI', 0.0240164)]\n",
            "27.0609846\n",
            "[('COR COR COR INZ TAI', 0.021006)]\n",
            "19.964029800000002\n",
            "[('ANG ANG COR INZ INZ', 0.0200996)]\n",
            "19.995089400000005\n",
            "[('AKA ANG ANG COR INZ', 0.0197856)]\n",
            "19.194302400000005\n",
            "[('AKA AKA ANG COR INZ', 0.0175072)]\n",
            "19.13967120000001\n",
            "[('ANG ANG COR COR INZ', 0.0171756)]\n",
            "18.989965800000007\n",
            "[('COR INZ INZ INZ TAI', 0.0166608)]\n",
            "18.95237760000001\n",
            "[('COR INZ INZ INZ INZ', 0.015992)]\n",
            "12.594535200000005\n",
            "[('COR COR COR COR INZ', 0.0158968)]\n",
            "12.586594800000002\n",
            "[('AKA AKA COR COR INZ', 0.0149788)]\n",
            "18.88950180000001\n",
            "[('AKA ANG INZ INZ INZ', 0.0149268)]\n",
            "15.912912600000006\n",
            "[('AKA AKA COR INZ INZ', 0.0148448)]\n",
            "18.627336000000007\n",
            "[('AKA ANG COR COR TAI', 0.0134488)]\n",
            "16.91047800000001\n",
            "[('AKA AKA COR INZ TAI', 0.0128168)]\n",
            "13.736595600000003\n",
            "[('AKA ANG COR COR COR', 0.012668)]\n",
            "15.041098800000006\n",
            "[('AKA ANG INZ INZ TAI', 0.0115688)]\n",
            "16.387690800000005\n",
            "[('AKA ANG ANG INZ INZ', 0.0112128)]\n",
            "12.352548000000002\n",
            "[('AKA COR COR COR TAI', 0.0109692)]\n",
            "11.955988200000007\n",
            "[('AKA AKA ANG INZ INZ', 0.0085056)]\n",
            "11.726114400000004\n",
            "[('AKA ANG ANG COR COR', 0.0079144)]\n",
            "11.198974800000004\n",
            "[('ANG COR COR COR TAI', 0.0078432)]\n",
            "11.161488000000006\n",
            "[('AKA AKA ANG COR COR', 0.0078148)]\n",
            "11.394091800000002\n",
            "[('ANG ANG COR INZ TAI', 0.0076248)]\n",
            "12.353905200000003\n",
            "[('AKA AKA ANG COR TAI', 0.0075084)]\n",
            "8.673654600000004\n",
            "[('ANG INZ INZ INZ INZ', 0.0074464)]\n",
            "7.860590400000003\n",
            "[('AKA AKA COR COR TAI', 0.0073228)]\n",
            "8.825754600000003\n",
            "[('ANG ANG INZ INZ INZ', 0.0070432)]\n",
            "8.550734400000003\n",
            "[('AKA INZ INZ INZ TAI', 0.0070128)]\n",
            "10.546816800000006\n",
            "[('ANG INZ INZ INZ TAI', 0.0068368)]\n",
            "10.952229600000003\n",
            "[('AKA AKA ANG INZ TAI', 0.0064176)]\n",
            "8.468990400000003\n",
            "[('AKA COR COR COR COR', 0.0057576)]\n",
            "7.296166800000003\n",
            "[('ANG COR COR COR COR', 0.0057412)]\n",
            "7.164027000000002\n",
            "[('AKA INZ INZ INZ INZ', 0.005692)]\n",
            "7.161944400000003\n",
            "[('AKA AKA INZ INZ TAI', 0.005114)]\n",
            "7.779883800000004\n",
            "[('AKA AKA ANG ANG INZ', 0.0050496)]\n",
            "6.255163200000003\n",
            "[('AKA ANG ANG INZ TAI', 0.0045864)]\n",
            "8.080222800000003\n",
            "[('COR COR COR COR TAI', 0.0045588)]\n",
            "5.821023000000003\n",
            "[('AKA ANG ANG COR TAI', 0.004404)]\n",
            "7.9469052000000024\n",
            "[('AKA AKA COR COR COR', 0.0042888)]\n",
            "7.439406000000003\n",
            "[('ANG ANG COR COR COR', 0.0042876)]\n",
            "7.181514600000002\n",
            "[('AKA AKA ANG ANG COR', 0.0041852)]\n",
            "5.998005000000002\n",
            "[('AKA AKA INZ INZ INZ', 0.0041752)]\n",
            "7.167310800000001\n",
            "[('ANG ANG INZ INZ TAI', 0.0038984)]\n",
            "7.633220400000004\n",
            "[('ANG ANG COR COR TAI', 0.0034268)]\n",
            "7.193589000000004\n",
            "[('INZ INZ INZ INZ TAI', 0.0028936)]\n",
            "5.065491600000002\n",
            "[('COR COR COR COR COR', 0.001716)]\n",
            "2.6597532000000013\n",
            "[('INZ INZ INZ INZ INZ', 0.0016844)]\n",
            "2.6621010000000007\n",
            "[('AKA AKA ANG ANG TAI', 0.001682)]\n",
            "2.6717886\n",
            "[(['ANG', 'COR', 'COR', 'INZ', 'INZ'], 27.409221200000005), (['AKA', 'ANG', 'COR', 'INZ', 'INZ'], 27.138194600000006), (['AKA', 'COR', 'COR', 'INZ', 'INZ'], 27.006125000000004), (['AKA', 'ANG', 'COR', 'COR', 'INZ'], 26.60048600000001), (['COR', 'COR', 'INZ', 'INZ', 'TAI'], 18.878681000000018), (['AKA', 'COR', 'COR', 'INZ', 'TAI'], 17.861576600000006), (['ANG', 'COR', 'COR', 'INZ', 'TAI'], 17.17405340000001), (['ANG', 'COR', 'INZ', 'INZ', 'TAI'], 17.0609846), (['AKA', 'COR', 'INZ', 'INZ', 'TAI'], 16.90023440000001), (['AKA', 'ANG', 'COR', 'INZ', 'TAI'], 16.773593600000012), (['ANG', 'COR', 'INZ', 'INZ', 'INZ'], 15.996557600000013), (['COR', 'COR', 'INZ', 'INZ', 'INZ'], 15.367027400000012), (['COR', 'COR', 'COR', 'INZ', 'INZ'], 15.348198200000013), (['AKA', 'COR', 'COR', 'COR', 'INZ'], 15.29204600000001), (['ANG', 'COR', 'COR', 'COR', 'INZ'], 15.133994600000012), (['AKA', 'COR', 'INZ', 'INZ', 'INZ'], 15.009436400000002), (['ANG', 'ANG', 'COR', 'INZ', 'INZ'], 9.995089400000005), (['COR', 'COR', 'COR', 'INZ', 'TAI'], 9.964029800000002), (['AKA', 'ANG', 'ANG', 'COR', 'INZ'], 9.194302400000005), (['AKA', 'AKA', 'ANG', 'COR', 'INZ'], 9.13967120000001), (['ANG', 'ANG', 'COR', 'COR', 'INZ'], 8.989965800000007), (['COR', 'INZ', 'INZ', 'INZ', 'TAI'], 8.952377600000009), (['AKA', 'AKA', 'COR', 'COR', 'INZ'], 8.889501800000009), (['AKA', 'AKA', 'COR', 'INZ', 'INZ'], 8.627336000000007), (['AKA', 'ANG', 'COR', 'COR', 'TAI'], 6.910478000000008), (['AKA', 'ANG', 'INZ', 'INZ', 'TAI'], 6.387690800000005), (['AKA', 'ANG', 'INZ', 'INZ', 'INZ'], 5.912912600000006), (['AKA', 'ANG', 'COR', 'COR', 'COR'], 5.041098800000006), (['AKA', 'AKA', 'COR', 'INZ', 'TAI'], 3.736595600000003), (['COR', 'INZ', 'INZ', 'INZ', 'INZ'], 2.5945352000000046), (['COR', 'COR', 'COR', 'COR', 'INZ'], 2.586594800000002), (['ANG', 'ANG', 'COR', 'INZ', 'TAI'], 2.3539052000000034), (['AKA', 'ANG', 'ANG', 'INZ', 'INZ'], 2.3525480000000023), (['AKA', 'COR', 'COR', 'COR', 'TAI'], 1.9559882000000073), (['AKA', 'AKA', 'ANG', 'INZ', 'INZ'], 1.7261144000000037), (['AKA', 'AKA', 'ANG', 'COR', 'COR'], 1.3940918000000018), (['AKA', 'ANG', 'ANG', 'COR', 'COR'], 1.1989748000000038), (['ANG', 'COR', 'COR', 'COR', 'TAI'], 1.1614880000000056), (['ANG', 'INZ', 'INZ', 'INZ', 'TAI'], 0.9522296000000026), (['AKA', 'INZ', 'INZ', 'INZ', 'TAI'], 0.5468168000000055), (['AKA', 'AKA', 'COR', 'COR', 'TAI'], -1.1742453999999967), (['AKA', 'AKA', 'ANG', 'COR', 'TAI'], -1.3263453999999957), (['ANG', 'ANG', 'INZ', 'INZ', 'INZ'], -1.4492655999999968), (['AKA', 'AKA', 'ANG', 'INZ', 'TAI'], -1.5310095999999973), (['AKA', 'ANG', 'ANG', 'INZ', 'TAI'], -1.9197771999999969), (['AKA', 'ANG', 'ANG', 'COR', 'TAI'], -2.0530947999999976), (['ANG', 'INZ', 'INZ', 'INZ', 'INZ'], -2.139409599999997), (['AKA', 'AKA', 'INZ', 'INZ', 'TAI'], -2.220116199999996), (['ANG', 'ANG', 'INZ', 'INZ', 'TAI'], -2.3667795999999957), (['AKA', 'AKA', 'COR', 'COR', 'COR'], -2.5605939999999974), (['AKA', 'COR', 'COR', 'COR', 'COR'], -2.7038331999999974), (['ANG', 'ANG', 'COR', 'COR', 'TAI'], -2.806410999999996), (['ANG', 'ANG', 'COR', 'COR', 'COR'], -2.8184853999999984), (['AKA', 'AKA', 'INZ', 'INZ', 'INZ'], -2.832689199999999), (['ANG', 'COR', 'COR', 'COR', 'COR'], -2.8359729999999983), (['AKA', 'INZ', 'INZ', 'INZ', 'INZ'], -2.838055599999997), (['AKA', 'AKA', 'ANG', 'ANG', 'INZ'], -3.744836799999997), (['AKA', 'AKA', 'ANG', 'ANG', 'COR'], -4.001994999999998), (['COR', 'COR', 'COR', 'COR', 'TAI'], -4.178976999999997), (['INZ', 'INZ', 'INZ', 'INZ', 'TAI'], -4.934508399999998), (['AKA', 'AKA', 'ANG', 'ANG', 'TAI'], -7.3282114), (['INZ', 'INZ', 'INZ', 'INZ', 'INZ'], -7.337898999999999), (['COR', 'COR', 'COR', 'COR', 'COR'], -7.340246799999999)]\n"
          ]
        }
      ]
    },
    {
      "cell_type": "code",
      "source": [
        "calculate_payout(0.1,20,0.80,*get_total_probs(\"OYJ STK STK CAL CAL\",PROBABILITIES))"
      ],
      "metadata": {
        "colab": {
          "base_uri": "https://localhost:8080/"
        },
        "id": "Q8OSn5VtygcL",
        "outputId": "f521deac-46d9-4404-b731-87007b244a91"
      },
      "id": "Q8OSn5VtygcL",
      "execution_count": null,
      "outputs": [
        {
          "output_type": "stream",
          "name": "stdout",
          "text": [
            "[('CAL CAL OYJ STK STK', 0.0009712)]\n"
          ]
        },
        {
          "output_type": "execute_result",
          "data": {
            "text/plain": [
              "630.9517390750708"
            ]
          },
          "metadata": {},
          "execution_count": 32
        }
      ]
    },
    {
      "cell_type": "code",
      "source": [
        "calculate_payout(0.2,10,0.85,*get_total_probs(\"ANG EBI EBI INZ INZ\",probabilities))"
      ],
      "metadata": {
        "id": "JWebxtZAyuD0",
        "colab": {
          "base_uri": "https://localhost:8080/"
        },
        "outputId": "b4e1d3b9-f3c6-4409-a4d5-a28f7fc8bf3a"
      },
      "id": "JWebxtZAyuD0",
      "execution_count": null,
      "outputs": [
        {
          "output_type": "execute_result",
          "data": {
            "text/plain": [
              "48.74217764208498"
            ]
          },
          "metadata": {},
          "execution_count": 69
        }
      ]
    },
    {
      "cell_type": "code",
      "source": [
        "calculate_payout(0.2,10,0.85,*get_total_probs(\"INZ INZ INZ EBI EBI\",probabilities))"
      ],
      "metadata": {
        "colab": {
          "base_uri": "https://localhost:8080/"
        },
        "id": "2_udjTaF3HQp",
        "outputId": "4f291319-6e0e-48ca-a71e-2387c68347e3"
      },
      "id": "2_udjTaF3HQp",
      "execution_count": null,
      "outputs": [
        {
          "output_type": "execute_result",
          "data": {
            "text/plain": [
              "74.6083759715021"
            ]
          },
          "metadata": {},
          "execution_count": 85
        }
      ]
    },
    {
      "cell_type": "code",
      "source": [],
      "metadata": {
        "id": "M8NpRI103Pb5"
      },
      "id": "M8NpRI103Pb5",
      "execution_count": null,
      "outputs": []
    }
  ],
  "metadata": {
    "kernelspec": {
      "display_name": "Python 3",
      "name": "python3"
    },
    "language_info": {
      "codemirror_mode": {
        "name": "ipython",
        "version": 3
      },
      "file_extension": ".py",
      "mimetype": "text/x-python",
      "name": "python",
      "nbconvert_exporter": "python",
      "pygments_lexer": "ipython3",
      "version": "3.9.7"
    },
    "colab": {
      "provenance": []
    },
    "accelerator": "TPU"
  },
  "nbformat": 4,
  "nbformat_minor": 5
}